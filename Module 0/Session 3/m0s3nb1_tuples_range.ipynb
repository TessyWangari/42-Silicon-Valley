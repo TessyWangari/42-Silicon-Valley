{
  "cells": [
    {
      "cell_type": "markdown",
      "metadata": {
        "id": "view-in-github",
        "colab_type": "text"
      },
      "source": [
        "<a href=\"https://colab.research.google.com/github/TessyWangari/42-Silicon-Valley/blob/master/Module%200/Session%203/m0s3nb1_tuples_range.ipynb\" target=\"_parent\"><img src=\"https://colab.research.google.com/assets/colab-badge.svg\" alt=\"Open In Colab\"/></a>"
      ]
    },
    {
      "cell_type": "markdown",
      "id": "945c9b8f",
      "metadata": {
        "id": "945c9b8f"
      },
      "source": [
        "# Python Sequences:  Tuples and Range Objects"
      ]
    },
    {
      "cell_type": "markdown",
      "id": "8ad7d700",
      "metadata": {
        "id": "8ad7d700"
      },
      "source": [
        "### Sequence Types in Python\n",
        "\n",
        "#### Sequences are containers with items stored in a deterministic ordering. The individual items can be addressed by their position within the sequence.\n",
        "\n",
        "#### Each sequence data type comes with its unique capabilities. `Tuples`, `ranges`, `lists`, and `strings` are all sequence types. We covered strings last session, and we will be covering the other three in this session.\n",
        "\n",
        "While we are going to also be covering `sets` in this session, a `set` is not a sequence in Python. This is because sets in Python ARE NOT ordered. We will see more on this when we cover `sets` in detail.\n",
        "\n",
        "#### Sequence Type documentation link:  https://docs.python.org/3/library/stdtypes.html#typesseq"
      ]
    },
    {
      "cell_type": "markdown",
      "id": "67b6f9a5",
      "metadata": {
        "id": "67b6f9a5"
      },
      "source": [
        "#### Sequences types can be either mutable or immutable.\n",
        "\n",
        "Tuples and range objects are immutable.\n",
        "\n",
        "Lists are mutable."
      ]
    },
    {
      "cell_type": "markdown",
      "id": "1ce6c6ff",
      "metadata": {
        "id": "1ce6c6ff"
      },
      "source": [
        "#### Sequences support operations which are common across the different types of sequences, for both mutable and immutable types. You will use most all of these operations in the class, either in homework notebooks or exams.\n",
        "\n",
        "The screen shot below is from the Python documentation (link above). These common operations can be done on both mutable (`lists`) and immutable (`tuples`, `ranges`, `strings`) sequence types. We will demonstrate some of them in the session today.\n",
        "\n",
        "![seq_ops.png](https://github.com/gt-cse-6040/bootcamp/blob/main/Module%200/Session%203/seq_ops.png?raw=1)"
      ]
    },
    {
      "cell_type": "markdown",
      "id": "f214b0c4",
      "metadata": {
        "id": "f214b0c4"
      },
      "source": [
        "### Now let's look at `tuples`."
      ]
    },
    {
      "cell_type": "markdown",
      "id": "ff96c14e",
      "metadata": {
        "id": "ff96c14e"
      },
      "source": [
        "In Python, a tuple is a built-in data type that allows you to create immutable sequences of values. The values or items in a tuple can be of any type. This makes tuples pretty useful in those situations where you need to store heterogeneous data, like that in a database record, for example.\n",
        "\n",
        "#### Tuple documentation link:  https://docs.python.org/3/tutorial/datastructures.html#tuples-and-sequences\n",
        "\n",
        "#### Some good pages on tuples:  \n",
        "\n",
        "https://www.geeksforgeeks.org/tuples-in-python/\n",
        "\n",
        "https://www.w3schools.com/python/python_tuples.asp\n",
        "\n",
        "https://realpython.com/python-tuple/"
      ]
    },
    {
      "cell_type": "markdown",
      "id": "579dda09",
      "metadata": {
        "id": "579dda09"
      },
      "source": [
        "### Tuples have the following properties, relevant to our use in the class:\n",
        "\n",
        "**Ordered**: They contain elements that are sequentially arranged according to their specific insertion order.\n",
        "\n",
        "**Indexable through a zero-based index**: They allow you to access their elements by integer indices that start from zero.\n",
        "\n",
        "**Immutable**: They don’t support in-place mutations or changes to their contained elements. They don’t support growing or shrinking operations.\n",
        "\n",
        "**Heterogeneous**: They can store objects of different data types and domains, including mutable objects.\n",
        "\n",
        "**Nestable**: They can contain other tuples, so you can have tuples of tuples.\n",
        "\n",
        "**Iterable**: They support iteration, so you can traverse them using a loop or comprehension while you perform operations with each of their elements.\n",
        "\n",
        "**Sliceable**: They support slicing operations, meaning that you can extract a series of elements from a tuple.\n",
        "\n",
        "**Combinable**: They support concatenation operations, so you can combine two or more tuples using the concatenation operators, which creates a new tuple.\n",
        "\n",
        "**Hashable**: They can work as keys in dictionaries when all the tuple items are immutable.\n",
        "\n",
        "### So let's look at some examples."
      ]
    },
    {
      "cell_type": "code",
      "execution_count": 1,
      "id": "33ae94e5",
      "metadata": {
        "id": "33ae94e5",
        "colab": {
          "base_uri": "https://localhost:8080/",
          "height": 35
        },
        "outputId": "599b0895-bfdd-4f64-e38a-019853eea715"
      },
      "outputs": [
        {
          "output_type": "display_data",
          "data": {
            "text/plain": [
              "tuple"
            ]
          },
          "metadata": {}
        }
      ],
      "source": [
        "# note the different data types\n",
        "tuple_1 = (\"CSE6040\", 29, 15.4, True)\n",
        "\n",
        "display(type(tuple_1))"
      ]
    },
    {
      "cell_type": "code",
      "execution_count": 2,
      "id": "c0acd53e",
      "metadata": {
        "id": "c0acd53e",
        "colab": {
          "base_uri": "https://localhost:8080/",
          "height": 53
        },
        "outputId": "4136a8c0-162d-43e1-c6bc-7d4eaa8a3fcf"
      },
      "outputs": [
        {
          "output_type": "display_data",
          "data": {
            "text/plain": [
              "'CSE6040'"
            ],
            "application/vnd.google.colaboratory.intrinsic+json": {
              "type": "string"
            }
          },
          "metadata": {}
        },
        {
          "output_type": "display_data",
          "data": {
            "text/plain": [
              "True"
            ]
          },
          "metadata": {}
        }
      ],
      "source": [
        "# addressing elements of a tuple\n",
        "display(tuple_1[0])\n",
        "display(tuple_1[3])"
      ]
    },
    {
      "cell_type": "code",
      "execution_count": null,
      "id": "e9b06573",
      "metadata": {
        "id": "e9b06573"
      },
      "outputs": [],
      "source": [
        "# tuples are immutable\n",
        "# commented out to prevent error\n",
        "# uncomment to show\n",
        "# tuple_1[0] = \"ISYE6501\""
      ]
    },
    {
      "cell_type": "code",
      "source": [
        "display(tuple_1[0:5:3])"
      ],
      "metadata": {
        "id": "bLWwQGljvaW7",
        "outputId": "85c1b7eb-ec65-42ba-861e-9fb27f22602f",
        "colab": {
          "base_uri": "https://localhost:8080/",
          "height": 35
        }
      },
      "id": "bLWwQGljvaW7",
      "execution_count": 16,
      "outputs": [
        {
          "output_type": "display_data",
          "data": {
            "text/plain": [
              "('CSE6040', True)"
            ]
          },
          "metadata": {}
        }
      ]
    },
    {
      "cell_type": "code",
      "execution_count": 3,
      "id": "c29a5829",
      "metadata": {
        "id": "c29a5829",
        "colab": {
          "base_uri": "https://localhost:8080/",
          "height": 53
        },
        "outputId": "f0553839-ce76-494b-be2e-037c69c61e45"
      },
      "outputs": [
        {
          "output_type": "display_data",
          "data": {
            "text/plain": [
              "('CSE6040', 29)"
            ]
          },
          "metadata": {}
        },
        {
          "output_type": "display_data",
          "data": {
            "text/plain": [
              "('CSE6040', 15.4)"
            ]
          },
          "metadata": {}
        }
      ],
      "source": [
        "# slicing notation for a tuple\n",
        "display(tuple_1[:2])\n",
        "display(tuple_1[0:5:2])"
      ]
    },
    {
      "cell_type": "code",
      "execution_count": 17,
      "id": "4a7b64fe",
      "metadata": {
        "id": "4a7b64fe",
        "colab": {
          "base_uri": "https://localhost:8080/",
          "height": 35
        },
        "outputId": "d14d0b12-abf8-4b51-f103-7100e7cbd901"
      },
      "outputs": [
        {
          "output_type": "display_data",
          "data": {
            "text/plain": [
              "4"
            ]
          },
          "metadata": {}
        }
      ],
      "source": [
        "# length operation\n",
        "display(len(tuple_1))"
      ]
    },
    {
      "cell_type": "code",
      "execution_count": 18,
      "id": "38e9bb07",
      "metadata": {
        "id": "38e9bb07"
      },
      "outputs": [],
      "source": [
        "# tuples can be nested\n",
        "tuple_2 = (\"CSE6040\", 29, 15.4, True,(\"ISYE6501\",\"MGT8803\"))"
      ]
    },
    {
      "cell_type": "code",
      "execution_count": 19,
      "id": "788ebc07",
      "metadata": {
        "id": "788ebc07",
        "colab": {
          "base_uri": "https://localhost:8080/",
          "height": 53
        },
        "outputId": "06a3846a-a0dd-4347-a93c-ea21aba3554d"
      },
      "outputs": [
        {
          "output_type": "display_data",
          "data": {
            "text/plain": [
              "('ISYE6501', 'MGT8803')"
            ]
          },
          "metadata": {}
        },
        {
          "output_type": "display_data",
          "data": {
            "text/plain": [
              "tuple"
            ]
          },
          "metadata": {}
        }
      ],
      "source": [
        "display(tuple_2[4])\n",
        "display(type(tuple_2[4]))"
      ]
    },
    {
      "cell_type": "code",
      "execution_count": 20,
      "id": "92dbcd2a",
      "metadata": {
        "id": "92dbcd2a",
        "colab": {
          "base_uri": "https://localhost:8080/",
          "height": 53
        },
        "outputId": "9856d68f-0b1f-4a23-9023-e0c6afc800b0"
      },
      "outputs": [
        {
          "output_type": "display_data",
          "data": {
            "text/plain": [
              "[33, 44, 55]"
            ]
          },
          "metadata": {}
        },
        {
          "output_type": "display_data",
          "data": {
            "text/plain": [
              "list"
            ]
          },
          "metadata": {}
        }
      ],
      "source": [
        "# nested tuples can hold other data types in their nesting\n",
        "tuple_3 = (\"CSE6040\", 29, 15.4, True,(\"ISYE6501\",\"MGT8803\"),[33,44,55])\n",
        "display(tuple_3[5])\n",
        "display(type(tuple_3[5]))"
      ]
    },
    {
      "cell_type": "markdown",
      "id": "83021064",
      "metadata": {
        "id": "83021064"
      },
      "source": [
        "One last note on tuples and immutability.\n",
        "\n",
        "Tuples are immutable, but if you store a mutable object within a tuple, then you can change that object within the tuple. The tuple will not let you change that element of the tuple to something different, but you can change the object elements themselves.\n",
        "\n",
        "This is not a tuple capability that we will be requiring you to do in this class, but we show it simply for completeness of functionality.\n",
        "\n",
        "Also, the example addresses nested data elements and uses nesting syntax, which we will cover in detail in the next notebook on lists, so don't worry about picking it up yet.\n",
        "\n",
        "See this example."
      ]
    },
    {
      "cell_type": "code",
      "execution_count": 21,
      "id": "8c3453a0",
      "metadata": {
        "id": "8c3453a0",
        "colab": {
          "base_uri": "https://localhost:8080/",
          "height": 53
        },
        "outputId": "b9ac54e7-c288-46ea-f2dc-1e957fcdd98b"
      },
      "outputs": [
        {
          "output_type": "display_data",
          "data": {
            "text/plain": [
              "[33, 44, 55]"
            ]
          },
          "metadata": {}
        },
        {
          "output_type": "display_data",
          "data": {
            "text/plain": [
              "55"
            ]
          },
          "metadata": {}
        }
      ],
      "source": [
        "# nested tuples can hold other data types in their nesting\n",
        "tuple_4 = (\"CSE6040\", 29, 15.4, True,(\"ISYE6501\",\"MGT8803\"),[33,44,55])\n",
        "display(tuple_4[5])\n",
        "display(tuple_4[5][2])"
      ]
    },
    {
      "cell_type": "code",
      "source": [
        "tuple_4[5][0]=22\n",
        "display(tuple_4[5])"
      ],
      "metadata": {
        "id": "8RSwkIs8zBos",
        "outputId": "a2fbf56c-c6e9-4c16-bedc-a346992ce4fa",
        "colab": {
          "base_uri": "https://localhost:8080/",
          "height": 35
        }
      },
      "id": "8RSwkIs8zBos",
      "execution_count": 22,
      "outputs": [
        {
          "output_type": "display_data",
          "data": {
            "text/plain": [
              "[22, 44, 55]"
            ]
          },
          "metadata": {}
        }
      ]
    },
    {
      "cell_type": "code",
      "execution_count": null,
      "id": "c6c7d396",
      "metadata": {
        "id": "c6c7d396"
      },
      "outputs": [],
      "source": [
        "# change the value of the 3rd item in the list\n",
        "tuple_4[5][2] = 66\n",
        "display(tuple_4[5])"
      ]
    },
    {
      "cell_type": "code",
      "source": [],
      "metadata": {
        "id": "jgT68UxQzAnF"
      },
      "id": "jgT68UxQzAnF",
      "execution_count": null,
      "outputs": []
    },
    {
      "cell_type": "markdown",
      "id": "90d4387e",
      "metadata": {
        "id": "90d4387e"
      },
      "source": [
        "#### What are your questions on tuples?"
      ]
    },
    {
      "cell_type": "markdown",
      "id": "633f54f6",
      "metadata": {
        "id": "633f54f6"
      },
      "source": [
        "### Range Objects\n",
        "\n",
        "#### The `range()` function returns a sequence of numbers, starting from 0 by default, and increments by 1 (by default), and stops before a specified number.\n",
        "\n",
        "Range objects are typically used in looping operations.\n",
        "\n",
        "The `range()` syntax is:  range(start, stop, step). The `start` and `step` parameters are optional. If not specified, `start` will be 0 and `step` will be 1.\n",
        "\n",
        "#### Range object documentation links:  https://docs.python.org/3/library/stdtypes.html#ranges\n",
        "\n",
        "https://docs.python.org/3/library/functions.html#func-range\n",
        "\n"
      ]
    },
    {
      "cell_type": "code",
      "execution_count": 23,
      "id": "289bab01",
      "metadata": {
        "id": "289bab01",
        "colab": {
          "base_uri": "https://localhost:8080/",
          "height": 35
        },
        "outputId": "aeb5451d-ff84-4039-f915-4a2162e9087c"
      },
      "outputs": [
        {
          "output_type": "display_data",
          "data": {
            "text/plain": [
              "range(0, 5)"
            ]
          },
          "metadata": {}
        }
      ],
      "source": [
        "range_1 = range(5)\n",
        "display(range_1)"
      ]
    },
    {
      "cell_type": "code",
      "execution_count": 24,
      "id": "6937b81d",
      "metadata": {
        "id": "6937b81d",
        "colab": {
          "base_uri": "https://localhost:8080/"
        },
        "outputId": "7d1f1068-f3b3-4ddd-972b-52ea7b7e7dda"
      },
      "outputs": [
        {
          "output_type": "stream",
          "name": "stdout",
          "text": [
            "0\n",
            "1\n",
            "2\n",
            "3\n",
            "4\n"
          ]
        }
      ],
      "source": [
        "for number in range_1:\n",
        "    print(number)"
      ]
    },
    {
      "cell_type": "code",
      "execution_count": 25,
      "id": "cd3f6e6d",
      "metadata": {
        "id": "cd3f6e6d",
        "colab": {
          "base_uri": "https://localhost:8080/",
          "height": 35
        },
        "outputId": "7c31254e-868e-4832-eb5a-641427e961e8"
      },
      "outputs": [
        {
          "output_type": "display_data",
          "data": {
            "text/plain": [
              "range(0, 10, 2)"
            ]
          },
          "metadata": {}
        }
      ],
      "source": [
        "range_2 = range(0,10,2)\n",
        "display(range_2)"
      ]
    },
    {
      "cell_type": "code",
      "execution_count": 26,
      "id": "84a2bf90",
      "metadata": {
        "id": "84a2bf90",
        "colab": {
          "base_uri": "https://localhost:8080/"
        },
        "outputId": "28c2223e-0320-4da9-873a-58b6052a7180"
      },
      "outputs": [
        {
          "output_type": "stream",
          "name": "stdout",
          "text": [
            "0\n",
            "2\n",
            "4\n",
            "6\n",
            "8\n"
          ]
        }
      ],
      "source": [
        "for number in range_2:\n",
        "    print(number)"
      ]
    },
    {
      "cell_type": "markdown",
      "id": "3ad40856",
      "metadata": {
        "id": "3ad40856"
      },
      "source": [
        "#### Ranges are useful for looping over iterable objects. And this is how you will generally use range objects in this class.\n",
        "\n",
        "Recall the variable `tuple_3` from above."
      ]
    },
    {
      "cell_type": "code",
      "execution_count": 27,
      "id": "46568f11",
      "metadata": {
        "id": "46568f11",
        "colab": {
          "base_uri": "https://localhost:8080/",
          "height": 35
        },
        "outputId": "0cd197b9-d70b-4947-8de6-c02a993ec2b7"
      },
      "outputs": [
        {
          "output_type": "display_data",
          "data": {
            "text/plain": [
              "('CSE6040', 29, 15.4, True, ('ISYE6501', 'MGT8803'), [33, 44, 55])"
            ]
          },
          "metadata": {}
        }
      ],
      "source": [
        "display(tuple_3)"
      ]
    },
    {
      "cell_type": "code",
      "execution_count": 31,
      "id": "c7a85e77",
      "metadata": {
        "id": "c7a85e77",
        "colab": {
          "base_uri": "https://localhost:8080/",
          "height": 35
        },
        "outputId": "60c124f6-a027-4dc0-a031-479eb01cfb96"
      },
      "outputs": [
        {
          "output_type": "display_data",
          "data": {
            "text/plain": [
              "6"
            ]
          },
          "metadata": {}
        }
      ],
      "source": [
        "# what is the length of the tuple?\n",
        "display(len(tuple_3))\n",
        "\n"
      ]
    },
    {
      "cell_type": "code",
      "source": [
        "for item in range ( en(tuple_3)):\n",
        "  print(tuple_3[item])"
      ],
      "metadata": {
        "id": "WsnCQqnr3LeO",
        "outputId": "a34687c1-2959-48c6-c4d4-c5d69fd75ef3",
        "colab": {
          "base_uri": "https://localhost:8080/"
        }
      },
      "id": "WsnCQqnr3LeO",
      "execution_count": 34,
      "outputs": [
        {
          "output_type": "stream",
          "name": "stdout",
          "text": [
            "CSE6040\n",
            "29\n",
            "15.4\n",
            "True\n",
            "('ISYE6501', 'MGT8803')\n",
            "[33, 44, 55]\n"
          ]
        }
      ]
    },
    {
      "cell_type": "code",
      "source": [
        "# loop over the items in the tuple using a range object\n",
        "for item in range(len(tuple_3)):\n",
        "# so the line of code is equivalent to this one\n",
        "# for item in range(6):\n",
        "    print(item)\n",
        "    print(tuple_3[item])\n",
        "    print('\\n')"
      ],
      "metadata": {
        "id": "eqVUM2pN3BRo",
        "outputId": "38d1e334-75f1-457a-fad5-215e8c77c077",
        "colab": {
          "base_uri": "https://localhost:8080/"
        }
      },
      "id": "eqVUM2pN3BRo",
      "execution_count": 30,
      "outputs": [
        {
          "output_type": "stream",
          "name": "stdout",
          "text": [
            "0\n",
            "CSE6040\n",
            "\n",
            "\n",
            "1\n",
            "29\n",
            "\n",
            "\n",
            "2\n",
            "15.4\n",
            "\n",
            "\n",
            "3\n",
            "True\n",
            "\n",
            "\n",
            "4\n",
            "('ISYE6501', 'MGT8803')\n",
            "\n",
            "\n",
            "5\n",
            "[33, 44, 55]\n",
            "\n",
            "\n"
          ]
        }
      ]
    },
    {
      "cell_type": "code",
      "source": [],
      "metadata": {
        "id": "SWDVMilq3KWW"
      },
      "id": "SWDVMilq3KWW",
      "execution_count": null,
      "outputs": []
    },
    {
      "cell_type": "markdown",
      "id": "45cbd8c3",
      "metadata": {
        "id": "45cbd8c3"
      },
      "source": [
        "#### What are your questions on range objects?"
      ]
    },
    {
      "cell_type": "code",
      "execution_count": 34,
      "id": "e7c5b417",
      "metadata": {
        "id": "e7c5b417"
      },
      "outputs": [],
      "source": []
    }
  ],
  "metadata": {
    "kernelspec": {
      "display_name": "Python 3 (ipykernel)",
      "language": "python",
      "name": "python3"
    },
    "language_info": {
      "codemirror_mode": {
        "name": "ipython",
        "version": 3
      },
      "file_extension": ".py",
      "mimetype": "text/x-python",
      "name": "python",
      "nbconvert_exporter": "python",
      "pygments_lexer": "ipython3",
      "version": "3.9.13"
    },
    "colab": {
      "provenance": [],
      "include_colab_link": true
    }
  },
  "nbformat": 4,
  "nbformat_minor": 5
}